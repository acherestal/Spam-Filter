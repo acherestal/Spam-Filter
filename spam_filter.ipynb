{
  "nbformat": 4,
  "nbformat_minor": 0,
  "metadata": {
    "colab": {
      "provenance": [],
      "collapsed_sections": []
    },
    "kernelspec": {
      "name": "python3",
      "display_name": "Python 3"
    },
    "language_info": {
      "name": "python"
    }
  },
  "cells": [
    {
      "cell_type": "code",
      "execution_count": null,
      "metadata": {
        "id": "pUEmbYy1AnIo"
      },
      "outputs": [],
      "source": [
        "import numpy as np \n",
        "import matplotlib.pyplot as plt\n",
        "from sklearn import metrics\n",
        "import pandas as pd\n",
        "\n",
        "url = 'https://raw.githubusercontent.com/tasdikrahman/datasets/master/email/csv/spam-apache.csv'\n",
        "df = pd.read_csv(url, header=None)\n",
        "\n",
        "data = df.to_numpy()\n",
        "\n",
        "#print(data)"
      ]
    },
    {
      "cell_type": "code",
      "source": [
        "train,test = np.split(data,[int(0.80 * len(data))])\n",
        "\n",
        "print(f\"num of training examples: {train.shape[0]}\")\n",
        "print(f\"num of testing examples: {test.shape[0]}\")"
      ],
      "metadata": {
        "colab": {
          "base_uri": "https://localhost:8080/"
        },
        "id": "mByZUsFTlS11",
        "outputId": "8ffbdc4a-8950-45e9-a33b-45639de54203"
      },
      "execution_count": null,
      "outputs": [
        {
          "output_type": "stream",
          "name": "stdout",
          "text": [
            "num of training examples: 200\n",
            "num of testing examples: 50\n"
          ]
        }
      ]
    },
    {
      "cell_type": "code",
      "source": [
        "spam = train[train[:, 0]==-1, 1]\n",
        "ham = train[train[:, 0]==1, 1]\n",
        "\n",
        "print(ham.shape[0]) #print(len(ham))\n",
        "print(spam.shape[0])"
      ],
      "metadata": {
        "id": "xehkA3xZq7Tv",
        "colab": {
          "base_uri": "https://localhost:8080/"
        },
        "outputId": "382d0d56-2382-4131-f328-de629a1910eb"
      },
      "execution_count": null,
      "outputs": [
        {
          "output_type": "stream",
          "name": "stdout",
          "text": [
            "99\n",
            "101\n"
          ]
        }
      ]
    },
    {
      "cell_type": "code",
      "source": [
        "words = ['As seen on NBC, CBS, CNN', 'Help wanted', 'increase', 'FREE', 'office', 'http:', 'Hi', 'From:', 'To:', '#', 'but']\n",
        "\n",
        "word_dic = {}\n",
        "\n",
        "sc = 0\n",
        "hc = 0\n",
        "\n",
        "def word_search(pred):\n",
        "  sc = 0\n",
        "  hc = 0\n",
        "\n",
        "  for line in train:\n",
        "    if line[1].find(pred) != -1:\n",
        "      if line[0] == -1:\n",
        "        sc += 1\n",
        "      else:\n",
        "        hc += 1\n",
        "    array = [sc, hc]\n",
        "  return (array)\n",
        "\n",
        "for x in words:\n",
        "  word_dic[x] = word_search(x)\n",
        "\n",
        "word_dic"
      ],
      "metadata": {
        "colab": {
          "base_uri": "https://localhost:8080/"
        },
        "id": "otJ2dpRfi6Za",
        "outputId": "d78b6b01-e75c-4a88-91c3-be2f4686ba39"
      },
      "execution_count": null,
      "outputs": [
        {
          "output_type": "execute_result",
          "data": {
            "text/plain": [
              "{'As seen on NBC, CBS, CNN': [5, 0],\n",
              " 'Help wanted': [5, 0],\n",
              " 'increase': [5, 1],\n",
              " 'FREE': [27, 0],\n",
              " 'office': [12, 3],\n",
              " 'http:': [72, 45],\n",
              " 'Hi': [4, 12],\n",
              " 'From:': [0, 7],\n",
              " 'To:': [2, 5],\n",
              " '#': [15, 5],\n",
              " 'but': [15, 49]}"
            ]
          },
          "metadata": {},
          "execution_count": 58
        }
      ]
    },
    {
      "cell_type": "code",
      "source": [
        "def zero_conv(dictionary):\n",
        "  for word in word_dic.keys():\n",
        "    if (word_dic[word][0] == 0.0):\n",
        "      word_dic.update({word: [0.0000000001, word_dic[word][1]] })\n",
        "    if (word_dic[word][1] == 0.0):\n",
        "      word_dic.update({word: [word_dic[word][0], 0.0000000001] })\n",
        "\n",
        "\n",
        "for x in words:\n",
        "  sum = word_dic[x][0] + word_dic[x][1]\n",
        "  word_dic[x] = [word_dic[x][0] / sum , word_dic[x][1] / sum]\n",
        "\n",
        "zero_conv(word_dic)\n",
        "\n",
        "word_dic"
      ],
      "metadata": {
        "colab": {
          "base_uri": "https://localhost:8080/"
        },
        "id": "Ovq01EO7EVcn",
        "outputId": "b00caff9-41df-42f7-9555-15359e64fd8c"
      },
      "execution_count": null,
      "outputs": [
        {
          "output_type": "execute_result",
          "data": {
            "text/plain": [
              "{'As seen on NBC, CBS, CNN': [1.0, 1e-10],\n",
              " 'Help wanted': [1.0, 1e-10],\n",
              " 'increase': [0.8333333333333334, 0.16666666666666666],\n",
              " 'FREE': [1.0, 1e-10],\n",
              " 'office': [0.8, 0.2],\n",
              " 'http:': [0.6153846153846154, 0.38461538461538464],\n",
              " 'Hi': [0.25, 0.75],\n",
              " 'From:': [1e-10, 1.0],\n",
              " 'To:': [0.2857142857142857, 0.7142857142857143],\n",
              " '#': [0.75, 0.25],\n",
              " 'but': [0.234375, 0.765625]}"
            ]
          },
          "metadata": {},
          "execution_count": 59
        }
      ]
    },
    {
      "cell_type": "code",
      "source": [
        "bias = np.log(len(spam) / len(ham))\n",
        "bias"
      ],
      "metadata": {
        "colab": {
          "base_uri": "https://localhost:8080/"
        },
        "id": "bVXsIIROhiTy",
        "outputId": "551ee659-cf96-43f4-caa1-214957a8ba02"
      },
      "execution_count": null,
      "outputs": [
        {
          "output_type": "execute_result",
          "data": {
            "text/plain": [
              "0.020000666706669435"
            ]
          },
          "metadata": {},
          "execution_count": 60
        }
      ]
    },
    {
      "cell_type": "code",
      "source": [
        "#observed_words = ['increase', 'FREE', 'Hi']\n",
        "\n",
        "def SpamHam(observed_words, array):\n",
        "\n",
        "  a = bias\n",
        "  for word in observed_words:\n",
        "    a += np.log(word_dic[word][1] / word_dic[word][0])\n",
        "\n",
        "  if(a > 0): \n",
        "    array.append(1)\n",
        "  elif (a==0):\n",
        "    array.append(0)\n",
        "  else: \n",
        "    array.append(-1)\n",
        "\n",
        "  return array\n"
      ],
      "metadata": {
        "id": "o61aO4sWiCWN"
      },
      "execution_count": null,
      "outputs": []
    },
    {
      "cell_type": "code",
      "source": [
        "emails = test[:, 1]\n",
        "labels = np.array(test[:, 0], dtype='int16')\n",
        "labels"
      ],
      "metadata": {
        "id": "TfFp4XfUtDO3",
        "colab": {
          "base_uri": "https://localhost:8080/"
        },
        "outputId": "857ce681-3489-437c-8e24-7689314d71e5"
      },
      "execution_count": null,
      "outputs": [
        {
          "output_type": "execute_result",
          "data": {
            "text/plain": [
              "array([-1, -1,  1, -1,  1,  1, -1,  1,  1,  1,  1, -1,  1,  1, -1, -1, -1,\n",
              "       -1,  1, -1, -1,  1,  1,  1, -1,  1, -1,  1,  1,  1, -1,  1, -1,  1,\n",
              "        1, -1, -1, -1,  1,  1,  1, -1,  1, -1, -1,  1, -1,  1, -1, -1],\n",
              "      dtype=int16)"
            ]
          },
          "metadata": {},
          "execution_count": 62
        }
      ]
    },
    {
      "cell_type": "code",
      "source": [
        "# This is the start of the FILTER \n",
        "\n",
        "predicted_labels = []\n",
        "\n",
        "for lines in emails:\n",
        "  observed_words = []\n",
        "  #lines = emails.split(' ')\n",
        "  for w in word_dic.keys():\n",
        "    if lines.find(w) != -1:\n",
        "      observed_words.append(w)\n",
        "  SpamHam(observed_words, predicted_labels)\n",
        "\n",
        "predicted_labels = np.array(predicted_labels)\n",
        "predicted_labels"
      ],
      "metadata": {
        "colab": {
          "base_uri": "https://localhost:8080/"
        },
        "id": "_2yZ5C0Fsjd8",
        "outputId": "8d099b23-4ff4-4205-833e-ce5ec6e66369"
      },
      "execution_count": null,
      "outputs": [
        {
          "output_type": "execute_result",
          "data": {
            "text/plain": [
              "array([-1, -1,  1, -1,  1, -1, -1,  1,  1,  1,  1, -1,  1, -1, -1, -1, -1,\n",
              "       -1, -1, -1,  1,  1,  1,  1, -1, -1, -1,  1,  1, -1, -1,  1, -1,  1,\n",
              "        1,  1, -1, -1, -1,  1,  1,  1,  1, -1, -1,  1,  1,  1, -1, -1])"
            ]
          },
          "metadata": {},
          "execution_count": 66
        }
      ]
    },
    {
      "cell_type": "code",
      "source": [
        "#results\n",
        "\n",
        "confusion_matrix = metrics.confusion_matrix(predicted_labels,labels)\n",
        "\n",
        "cm_display = metrics.ConfusionMatrixDisplay(confusion_matrix = confusion_matrix, display_labels = [True, False])\n",
        "\n",
        "cm_display.plot()\n",
        "plt.savefig('confusion_matrix.png')\n",
        "plt.show()"
      ],
      "metadata": {
        "colab": {
          "base_uri": "https://localhost:8080/",
          "height": 283
        },
        "id": "y_EbA1V953sp",
        "outputId": "15f8f910-d629-4061-f299-2f3f7fac7a98"
      },
      "execution_count": null,
      "outputs": [
        {
          "output_type": "display_data",
          "data": {
            "text/plain": [
              "<Figure size 432x288 with 2 Axes>"
            ],
            "image/png": "[encoded data removed]"
          },
          "metadata": {
            "needs_background": "light"
          }
        }
      ]
    },
    {
      "cell_type": "code",
      "source": [
        "Accuracy = metrics.accuracy_score(labels, predicted_labels)\n",
        "print(\"Accuracy \", Accuracy*100, '%')"
      ],
      "metadata": {
        "colab": {
          "base_uri": "https://localhost:8080/"
        },
        "id": "DlvPUnEI7s1E",
        "outputId": "58bf343d-3ba9-4b30-a4d8-4d0018b56380"
      },
      "execution_count": null,
      "outputs": [
        {
          "output_type": "stream",
          "name": "stdout",
          "text": [
            "Accuracy  80.0 %\n"
          ]
        }
      ]
    }
  ]
}